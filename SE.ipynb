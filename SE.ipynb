{
 "cells": [
  {
   "cell_type": "code",
   "execution_count": 2,
   "metadata": {},
   "outputs": [],
   "source": [
    "import cv2\n",
    "\n",
    "cap = cv2.VideoCapture('video.mp4')\n"
   ]
  },
  {
   "cell_type": "code",
   "execution_count": 14,
   "metadata": {},
   "outputs": [],
   "source": [
    "import numpy as np\n",
    "\n",
    "# Create a VideoCapture object and read from input file\n",
    "# If the input is the camera, pass 0 instead of the video file name\n",
    "cap = cv2.VideoCapture('video.mp4')\n",
    "\n",
    "# Check if camera opened successfully\n",
    "if (cap.isOpened()== False): \n",
    "  print(\"Error opening video stream or file\")\n",
    "\n",
    "# Read until video is completed\n",
    "while(cap.isOpened()):\n",
    "  # Capture frame-by-frame\n",
    "  ret, frame = cap.read()\n",
    "  if ret == True:\n",
    "\n",
    "    # Display the resulting frame\n",
    "    cv2.imshow('Frame',frame)\n",
    "\n",
    "    # Press Q on keyboard to  exit\n",
    "    if cv2.waitKey(100) & 0xFF == ord('q'):\n",
    "      break\n",
    "\n",
    "  # Break the loop\n",
    "  else: \n",
    "    break\n",
    "\n",
    "# When everything done, release the video capture object\n",
    "cap.release()\n",
    "\n",
    "# Closes all the frames\n",
    "cv2.destroyAllWindows()"
   ]
  },
  {
   "cell_type": "code",
   "execution_count": 22,
   "metadata": {},
   "outputs": [
    {
     "name": "stdout",
     "output_type": "stream",
     "text": [
      "23.976027596897072\n",
      "\n",
      "(960, 720)\n"
     ]
    }
   ],
   "source": [
    "import numpy as np\n",
    "cap = cv2.VideoCapture('video.mp4')\n",
    "framerate = cap.get(cv2.CAP_PROP_FPS)\n",
    "\n",
    "size = (int(cap.get(cv2.CAP_PROP_FRAME_WIDTH)),\n",
    "        int(cap.get(cv2.CAP_PROP_FRAME_HEIGHT)))\n",
    "\n",
    "\n",
    "print(framerate)\n",
    "\n",
    "print()\n",
    "\n",
    "print(size)\n"
   ]
  },
  {
   "cell_type": "code",
   "execution_count": 38,
   "metadata": {},
   "outputs": [
    {
     "name": "stdout",
     "output_type": "stream",
     "text": [
      "The framerate of the video file : 30.0\n",
      "\n",
      "The Frame dimensions of the video file : (1280, 542)\n"
     ]
    }
   ],
   "source": [
    "import numpy as np\n",
    "cap = cv2.VideoCapture('video2.mp4')\n",
    "framerate = cap.get(cv2.CAP_PROP_FPS)\n",
    "\n",
    "size = (int(cap.get(cv2.CAP_PROP_FRAME_WIDTH)),\n",
    "        int(cap.get(cv2.CAP_PROP_FRAME_HEIGHT)))\n",
    "\n",
    "\n",
    "print(\"The framerate of the video file : {0}\".format(framerate))\n",
    "\n",
    "print()\n",
    "\n",
    "print(\"The Frame dimensions of the video file : {0}\".format(size))"
   ]
  },
  {
   "cell_type": "code",
   "execution_count": null,
   "metadata": {},
   "outputs": [],
   "source": []
  },
  {
   "cell_type": "code",
   "execution_count": null,
   "metadata": {},
   "outputs": [],
   "source": []
  },
  {
   "cell_type": "markdown",
   "metadata": {},
   "source": [
    "# Capturing the frames through Front Camera and Output FPS of the video file"
   ]
  },
  {
   "cell_type": "code",
   "execution_count": 6,
   "metadata": {
    "scrolled": true
   },
   "outputs": [
    {
     "name": "stdout",
     "output_type": "stream",
     "text": [
      "Frames per second using video.get(cv2.CAP_PROP_FPS) : 30.0\n",
      "Capturing 120 frames\n",
      "Time taken : 4.649568557739258 seconds\n",
      "Estimated frames per second FPS : 25.80884624235913\n"
     ]
    }
   ],
   "source": [
    "import cv2\n",
    "import time\n",
    "\n",
    "if __name__ == '__main__' :\n",
    "\n",
    "    \n",
    "    video = cv2.VideoCapture(0);\n",
    "    \n",
    "    # Find OpenCV version\n",
    "    (major_ver, minor_ver, subminor_ver) = (cv2.__version__).split('.')\n",
    "\n",
    "    if int(major_ver)  < 3 :\n",
    "        fps = video.get(cv2.cv.CV_CAP_PROP_FPS)\n",
    "        print (\"Frames per second using video.get(cv2.cv.CV_CAP_PROP_FPS): {0}\"\n",
    "        .format(fps))\n",
    "    else :\n",
    "        fps = video.get(cv2.CAP_PROP_FPS)\n",
    "        print (\"Frames per second using video.get(cv2.CAP_PROP_FPS) : {0}\".format(fps))\n",
    "    \n",
    "\n",
    "    # Number of frames to capture\n",
    "    num_frames = 120;\n",
    "    \n",
    "    \n",
    "    print (\"Capturing {0} frames\".format(num_frames))\n",
    "\n",
    "    # Start time\n",
    "    start = time.time()\n",
    "    \n",
    "   \n",
    "    for i in range(0, num_frames) :\n",
    "        ret, frame = video.read()\n",
    "\n",
    "    \n",
    "    # End time\n",
    "    end = time.time()\n",
    "\n",
    "    # Time elapsed\n",
    "    seconds = end - start\n",
    "    print (\"Time taken : {0} seconds\".format(seconds))\n",
    "\n",
    "    # Calculate frames per second\n",
    "    fps  = num_frames / seconds;\n",
    "    print (\"Estimated frames per second FPS : {0}\".format(fps));\n",
    "\n",
    "    # Release video\n",
    "    video.release()"
   ]
  },
  {
   "cell_type": "code",
   "execution_count": null,
   "metadata": {},
   "outputs": [],
   "source": []
  },
  {
   "cell_type": "code",
   "execution_count": null,
   "metadata": {},
   "outputs": [],
   "source": []
  },
  {
   "cell_type": "code",
   "execution_count": null,
   "metadata": {},
   "outputs": [],
   "source": []
  },
  {
   "cell_type": "code",
   "execution_count": null,
   "metadata": {},
   "outputs": [],
   "source": []
  },
  {
   "cell_type": "code",
   "execution_count": null,
   "metadata": {},
   "outputs": [],
   "source": []
  },
  {
   "cell_type": "code",
   "execution_count": null,
   "metadata": {},
   "outputs": [],
   "source": []
  },
  {
   "cell_type": "code",
   "execution_count": null,
   "metadata": {},
   "outputs": [],
   "source": []
  },
  {
   "cell_type": "code",
   "execution_count": null,
   "metadata": {},
   "outputs": [],
   "source": []
  },
  {
   "cell_type": "code",
   "execution_count": null,
   "metadata": {},
   "outputs": [],
   "source": []
  },
  {
   "cell_type": "code",
   "execution_count": null,
   "metadata": {},
   "outputs": [],
   "source": []
  },
  {
   "cell_type": "code",
   "execution_count": null,
   "metadata": {},
   "outputs": [],
   "source": []
  },
  {
   "cell_type": "code",
   "execution_count": null,
   "metadata": {},
   "outputs": [],
   "source": []
  },
  {
   "cell_type": "code",
   "execution_count": null,
   "metadata": {},
   "outputs": [],
   "source": [
    "\n"
   ]
  },
  {
   "cell_type": "code",
   "execution_count": null,
   "metadata": {},
   "outputs": [],
   "source": []
  },
  {
   "cell_type": "code",
   "execution_count": null,
   "metadata": {},
   "outputs": [],
   "source": []
  },
  {
   "cell_type": "markdown",
   "metadata": {},
   "source": [
    "# Extracting Audio From Video File"
   ]
  },
  {
   "cell_type": "code",
   "execution_count": 13,
   "metadata": {},
   "outputs": [
    {
     "name": "stdout",
     "output_type": "stream",
     "text": [
      "Usage: 3.py FILE_NAME\n",
      "\"video.mp4\" successfully converted into MP3!\n"
     ]
    }
   ],
   "source": [
    "#!/usr/bin/env python3\n",
    "\n",
    "import sys\n",
    "import os\n",
    "import time\n",
    " \n",
    " \n",
    "def video_to_mp3(file_name):\n",
    "  \n",
    "    try:\n",
    "        file, extension = os.path.splitext(file_name)\n",
    "        # Convert video into .wav file\n",
    "        os.system('ffmpeg -i {file}{ext} {file}.wav'.format(file=file, ext=extension))\n",
    "        # Convert .wav into final .mp3 file\n",
    "        os.system('lame {file}.wav {file}.mp3'.format(file=file))\n",
    "        os.remove('{}.wav'.format(file))  \n",
    "        print('\"{}\" successfully converted into MP3!'.format(file_name))\n",
    "    except OSError as err:\n",
    "        print(err.reason)\n",
    "        exit(1)\n",
    " \n",
    " \n",
    "def main():\n",
    "    \n",
    "    if len(sys.argv) != 2:\n",
    "        print('Usage: 3.py FILE_NAME')\n",
    "        exit(1)\n",
    " \n",
    "    file_path = \"video.mp4\"\n",
    "    try:\n",
    "        if not os.path.exists(file_path):\n",
    "            print('file \"{}\" not found!'.format(file_path))\n",
    "            exit(1)\n",
    " \n",
    "    except OSError as err:\n",
    "        print(err.reason)\n",
    "        exit(1)\n",
    " \n",
    "    video_to_mp3(file_path)\n",
    "    time.sleep(1)\n",
    " \n",
    " \n",
    "if __name__ == '__main__':\n",
    "    main()"
   ]
  },
  {
   "cell_type": "code",
   "execution_count": 14,
   "metadata": {},
   "outputs": [
    {
     "name": "stdout",
     "output_type": "stream",
     "text": [
      "1.py  2.py  3.py  outpy.avi  SE.ipynb  video2.mp4  video.mp3  video.mp4\r\n"
     ]
    }
   ],
   "source": [
    "!dir\n"
   ]
  },
  {
   "cell_type": "code",
   "execution_count": null,
   "metadata": {},
   "outputs": [],
   "source": []
  }
 ],
 "metadata": {
  "kernelspec": {
   "display_name": "Python 3",
   "language": "python",
   "name": "python3"
  },
  "language_info": {
   "codemirror_mode": {
    "name": "ipython",
    "version": 3
   },
   "file_extension": ".py",
   "mimetype": "text/x-python",
   "name": "python",
   "nbconvert_exporter": "python",
   "pygments_lexer": "ipython3",
   "version": "3.7.6"
  }
 },
 "nbformat": 4,
 "nbformat_minor": 4
}
